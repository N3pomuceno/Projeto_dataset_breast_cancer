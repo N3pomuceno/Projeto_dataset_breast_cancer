{
 "cells": [
  {
   "cell_type": "markdown",
   "id": "09033292-ede4-437a-b958-0141d8a78981",
   "metadata": {},
   "source": [
    "# EDA: Breast Cancer Dataset\n",
    "\n",
    "Começaremos fazer as análises após fazer a importação dos dados e das bibliotecas."
   ]
  },
  {
   "cell_type": "code",
   "execution_count": 1,
   "id": "e2d0e716-1953-4046-b360-cd5be5daa02a",
   "metadata": {},
   "outputs": [],
   "source": [
    "from sklearn.datasets import load_breast_cancer\n",
    "import pandas as pd\n",
    "import numpy as np\n",
    "import seaborn as sns"
   ]
  },
  {
   "cell_type": "code",
   "execution_count": 2,
   "id": "66857e50-57ed-47a3-8aae-0845f3c6c16b",
   "metadata": {},
   "outputs": [],
   "source": [
    "data = load_breast_cancer()"
   ]
  },
  {
   "cell_type": "code",
   "execution_count": 3,
   "id": "3c96ebc7-2810-4fd8-b032-82f1ee33b40b",
   "metadata": {},
   "outputs": [],
   "source": [
    "#Atributos\n",
    "X = pd.DataFrame(data=data.data, columns=data.feature_names)\n",
    "#Variável dependente\n",
    "y = pd.DataFrame(data=data.target, columns=['diagnostic'])"
   ]
  },
  {
   "cell_type": "code",
   "execution_count": 4,
   "id": "3b68d742-9871-4cec-9862-ac5b4e5dc386",
   "metadata": {},
   "outputs": [],
   "source": [
    "df = pd.concat([X,y], axis=1)"
   ]
  },
  {
   "cell_type": "code",
   "execution_count": 5,
   "id": "8fd5231d-7329-4125-b5c3-ed68c64867d5",
   "metadata": {},
   "outputs": [
    {
     "data": {
      "text/plain": [
       "1    357\n",
       "0    212\n",
       "Name: diagnostic, dtype: int64"
      ]
     },
     "execution_count": 5,
     "metadata": {},
     "output_type": "execute_result"
    }
   ],
   "source": [
    "# Definir o que é 0 e o que é 1.\n",
    "df['diagnostic'].value_counts()"
   ]
  },
  {
   "cell_type": "code",
   "execution_count": null,
   "id": "23e0d639-d3d0-4687-853a-f75664ec9cee",
   "metadata": {},
   "outputs": [],
   "source": []
  },
  {
   "cell_type": "code",
   "execution_count": null,
   "id": "3131c053-4fef-44aa-a54d-f8d4b518b532",
   "metadata": {},
   "outputs": [],
   "source": []
  }
 ],
 "metadata": {
  "kernelspec": {
   "display_name": "Python 3 (ipykernel)",
   "language": "python",
   "name": "python3"
  },
  "language_info": {
   "codemirror_mode": {
    "name": "ipython",
    "version": 3
   },
   "file_extension": ".py",
   "mimetype": "text/x-python",
   "name": "python",
   "nbconvert_exporter": "python",
   "pygments_lexer": "ipython3",
   "version": "3.8.10"
  }
 },
 "nbformat": 4,
 "nbformat_minor": 5
}
